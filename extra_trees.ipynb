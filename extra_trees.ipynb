{
 "nbformat": 4,
 "nbformat_minor": 2,
 "metadata": {
  "language_info": {
   "name": "python",
   "codemirror_mode": {
    "name": "ipython",
    "version": 3
   }
  },
  "orig_nbformat": 2,
  "file_extension": ".py",
  "mimetype": "text/x-python",
  "name": "python",
  "npconvert_exporter": "python",
  "pygments_lexer": "ipython3",
  "version": 3
 },
 "cells": [
  {
   "cell_type": "markdown",
   "metadata": {},
   "source": [
    "### ** Trees: Ensemble Methods - Extra Trees\n",
    "\n",
    "In Extra Trees, the features and splits are selected at random. All the data available in the training set is used to build each stump.\n",
    "\n",
    "*Since splits are chosen at random for each feature in the Extra Trees Classifier, it’s less computationally expensive than a Random Forest. Extra Trees also show lower variance compared to Random Forests.*\n",
    "\n",
    "![Difference between Decision Trees, Random Forests and Extra Trees](./images/extratrees.png)"
   ]
  },
  {
   "cell_type": "code",
   "execution_count": null,
   "metadata": {},
   "outputs": [],
   "source": []
  },
  {
   "cell_type": "code",
   "execution_count": null,
   "metadata": {},
   "outputs": [],
   "source": []
  }
 ]
}